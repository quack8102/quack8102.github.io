{
    "cells": [
        {
            "cell_type": "markdown",
            "source": [
                "# Python 程序设计\n",
                "## 第4课：函数"
            ],
            "metadata": {}
        },
        {
            "cell_type": "markdown",
            "source": [
                "### 字典\n",
                "- 字典的元素存储方式是键值对的形式，键值对之间用逗号隔开\n",
                "- 键值对的形式形如：key:value\n",
                "- 最外层用{}括起来\n",
                "- d = {key1 : value1, key2 : value2 }\n",
                "- **由于字典是键值对的形式，所以字典是无序的，自然不能切片和索引，而是通过键来取值**，因此，字典虽然是可迭代对象，但是不支持随机访问\n",
                "\n",
                "**键：一般是唯一的，如果重复最后的一个键值对会替换前面的，值不需要唯一**  \n",
                "**值：可以取任何数据类型**\n",
                "\n",
                "字典的定义方式：\n",
                "- 使用dict()来定义字典\n",
                "- 使用{ }来定义字典"
            ],
            "metadata": {}
        },
        {
            "cell_type": "code",
            "execution_count": 14,
            "source": [
                "a = dict([('a',1), ('b', 2), ((1, 2), 3)])\n",
                "print(a)\n",
                "print(type(a))"
            ],
            "outputs": [
                {
                    "output_type": "stream",
                    "name": "stdout",
                    "text": [
                        "{'a': 1, 'b': 2, (1, 2): 3}\n",
                        "<class 'dict'>\n"
                    ]
                }
            ],
            "metadata": {}
        },
        {
            "cell_type": "code",
            "execution_count": 12,
            "source": [
                "a = dict([['a',1], ['b', 2], [(1, 2), 3]])\n",
                "print(a)\n",
                "print(type(a))"
            ],
            "outputs": [
                {
                    "output_type": "stream",
                    "name": "stdout",
                    "text": [
                        "{'a': 1, 'b': 2, (1, 2): 3}\n",
                        "<class 'dict'>\n"
                    ]
                }
            ],
            "metadata": {}
        },
        {
            "cell_type": "code",
            "execution_count": 15,
            "source": [
                "b = {'a':1, 'b':2, (1, 2):3}\n",
                "print(b)\n",
                "print(type(b))\n",
                "c = list(b)\n",
                "print(c)"
            ],
            "outputs": [
                {
                    "output_type": "stream",
                    "name": "stdout",
                    "text": [
                        "{'a': 1, 'b': 2, (1, 2): 3}\n",
                        "<class 'dict'>\n",
                        "['a', 'b', (1, 2)]\n"
                    ]
                }
            ],
            "metadata": {}
        },
        {
            "cell_type": "markdown",
            "source": [
                "可以用in运算符判断某个键是否出现在字典当中"
            ],
            "metadata": {}
        },
        {
            "cell_type": "code",
            "execution_count": 16,
            "source": [
                "b = {'姓名': '游凌云', '民族': '汉', '年龄': 23}\n",
                "print('姓名' in b)\n",
                "print(23 in b)"
            ],
            "outputs": [
                {
                    "output_type": "stream",
                    "name": "stdout",
                    "text": [
                        "True\n",
                        "False\n"
                    ]
                }
            ],
            "metadata": {}
        },
        {
            "cell_type": "markdown",
            "source": [
                "字典的增、删、改、查、遍历方法\n",
                "\n",
                "增：\n",
                "\n",
                "dict[键名] = 值"
            ],
            "metadata": {}
        },
        {
            "cell_type": "code",
            "execution_count": 3,
            "source": [
                "d = {}\n",
                "print(d)\n",
                "d['小张']='2000/01/01'\n",
                "print(d)\n",
                "d['小张']='2000/01/02'\n",
                "print(d)"
            ],
            "outputs": [
                {
                    "output_type": "stream",
                    "name": "stdout",
                    "text": [
                        "{}\n",
                        "{'小张': '2000/01/01'}\n",
                        "{'小张': '2000/01/02'}\n"
                    ]
                }
            ],
            "metadata": {}
        },
        {
            "cell_type": "markdown",
            "source": [
                "使用函数：dict.setdefault(键, 值)"
            ],
            "metadata": {}
        },
        {
            "cell_type": "code",
            "execution_count": 4,
            "source": [
                "print(d)\n",
                "d.setdefault('老李','1970/01/01')\n",
                "print(d)\n",
                "d.setdefault('老李','1970/01/02')\n",
                "print(d)"
            ],
            "outputs": [
                {
                    "output_type": "stream",
                    "name": "stdout",
                    "text": [
                        "{'小张': '2000/01/02'}\n",
                        "{'小张': '2000/01/02', '老李': '1970/01/01'}\n",
                        "{'小张': '2000/01/02', '老李': '1970/01/01'}\n"
                    ]
                }
            ],
            "metadata": {}
        },
        {
            "cell_type": "markdown",
            "source": [
                "使用函数：dict1.update(dict2)"
            ],
            "metadata": {}
        },
        {
            "cell_type": "code",
            "execution_count": 5,
            "source": [
                "print(d)\n",
                "d2 = {'张三':'1999/02/03', '李四':'1994/05/15', '老李':'1970/01/02'}\n",
                "print(d2)\n",
                "d.update(d2)\n",
                "print(d)"
            ],
            "outputs": [
                {
                    "output_type": "stream",
                    "name": "stdout",
                    "text": [
                        "{'小张': '2000/01/02', '老李': '1970/01/01'}\n",
                        "{'张三': '1999/02/03', '李四': '1994/05/15', '老李': '1970/01/02'}\n",
                        "{'小张': '2000/01/02', '老李': '1970/01/02', '张三': '1999/02/03', '李四': '1994/05/15'}\n"
                    ]
                }
            ],
            "metadata": {}
        },
        {
            "cell_type": "markdown",
            "source": [
                "删：\n",
                "\n",
                "del dict[键]"
            ],
            "metadata": {}
        },
        {
            "cell_type": "code",
            "execution_count": 6,
            "source": [
                "print(d)\n",
                "del d['小张']\n",
                "print(d)\n",
                "del d['小张']\n",
                "print(d)"
            ],
            "outputs": [
                {
                    "output_type": "stream",
                    "name": "stdout",
                    "text": [
                        "{'小张': '2000/01/02', '老李': '1970/01/02', '张三': '1999/02/03', '李四': '1994/05/15'}\n",
                        "{'老李': '1970/01/02', '张三': '1999/02/03', '李四': '1994/05/15'}\n"
                    ]
                },
                {
                    "output_type": "error",
                    "ename": "KeyError",
                    "evalue": "'小张'",
                    "traceback": [
                        "\u001b[0;31m---------------------------------------------------------------------------\u001b[0m",
                        "\u001b[0;31mKeyError\u001b[0m                                  Traceback (most recent call last)",
                        "\u001b[0;32m/tmp/ipykernel_1011/1587527577.py\u001b[0m in \u001b[0;36m<module>\u001b[0;34m\u001b[0m\n\u001b[1;32m      2\u001b[0m \u001b[0;32mdel\u001b[0m \u001b[0md\u001b[0m\u001b[0;34m[\u001b[0m\u001b[0;34m'小张'\u001b[0m\u001b[0;34m]\u001b[0m\u001b[0;34m\u001b[0m\u001b[0;34m\u001b[0m\u001b[0m\n\u001b[1;32m      3\u001b[0m \u001b[0mprint\u001b[0m\u001b[0;34m(\u001b[0m\u001b[0md\u001b[0m\u001b[0;34m)\u001b[0m\u001b[0;34m\u001b[0m\u001b[0;34m\u001b[0m\u001b[0m\n\u001b[0;32m----> 4\u001b[0;31m \u001b[0;32mdel\u001b[0m \u001b[0md\u001b[0m\u001b[0;34m[\u001b[0m\u001b[0;34m'小张'\u001b[0m\u001b[0;34m]\u001b[0m\u001b[0;34m\u001b[0m\u001b[0;34m\u001b[0m\u001b[0m\n\u001b[0m\u001b[1;32m      5\u001b[0m \u001b[0mprint\u001b[0m\u001b[0;34m(\u001b[0m\u001b[0md\u001b[0m\u001b[0;34m)\u001b[0m\u001b[0;34m\u001b[0m\u001b[0;34m\u001b[0m\u001b[0m\n",
                        "\u001b[0;31mKeyError\u001b[0m: '小张'"
                    ]
                }
            ],
            "metadata": {}
        },
        {
            "cell_type": "markdown",
            "source": [
                "dict.pop(键)"
            ],
            "metadata": {}
        },
        {
            "cell_type": "code",
            "execution_count": 33,
            "source": [
                "print(d)\n",
                "print(d.pop('老李'))\n",
                "print(d)\n",
                "d.pop('老李')\n",
                "print(d)"
            ],
            "outputs": [
                {
                    "output_type": "stream",
                    "name": "stdout",
                    "text": [
                        "{'老李': '1970/01/02', '张三': '1999/02/03', '李四': '1994/05/15'}\n",
                        "1970/01/02\n",
                        "{'张三': '1999/02/03', '李四': '1994/05/15'}\n"
                    ]
                },
                {
                    "output_type": "error",
                    "ename": "KeyError",
                    "evalue": "'老李'",
                    "traceback": [
                        "\u001b[0;31m---------------------------------------------------------------------------\u001b[0m",
                        "\u001b[0;31mKeyError\u001b[0m                                  Traceback (most recent call last)",
                        "\u001b[0;32m/tmp/ipykernel_1010/549725157.py\u001b[0m in \u001b[0;36m<module>\u001b[0;34m\u001b[0m\n\u001b[1;32m      2\u001b[0m \u001b[0mprint\u001b[0m\u001b[0;34m(\u001b[0m\u001b[0md\u001b[0m\u001b[0;34m.\u001b[0m\u001b[0mpop\u001b[0m\u001b[0;34m(\u001b[0m\u001b[0;34m'老李'\u001b[0m\u001b[0;34m)\u001b[0m\u001b[0;34m)\u001b[0m\u001b[0;34m\u001b[0m\u001b[0;34m\u001b[0m\u001b[0m\n\u001b[1;32m      3\u001b[0m \u001b[0mprint\u001b[0m\u001b[0;34m(\u001b[0m\u001b[0md\u001b[0m\u001b[0;34m)\u001b[0m\u001b[0;34m\u001b[0m\u001b[0;34m\u001b[0m\u001b[0m\n\u001b[0;32m----> 4\u001b[0;31m \u001b[0md\u001b[0m\u001b[0;34m.\u001b[0m\u001b[0mpop\u001b[0m\u001b[0;34m(\u001b[0m\u001b[0;34m'老李'\u001b[0m\u001b[0;34m)\u001b[0m\u001b[0;34m\u001b[0m\u001b[0;34m\u001b[0m\u001b[0m\n\u001b[0m\u001b[1;32m      5\u001b[0m \u001b[0mprint\u001b[0m\u001b[0;34m(\u001b[0m\u001b[0md\u001b[0m\u001b[0;34m)\u001b[0m\u001b[0;34m\u001b[0m\u001b[0;34m\u001b[0m\u001b[0m\n",
                        "\u001b[0;31mKeyError\u001b[0m: '老李'"
                    ]
                }
            ],
            "metadata": {}
        },
        {
            "cell_type": "markdown",
            "source": [
                "dict.clear()"
            ],
            "metadata": {}
        },
        {
            "cell_type": "code",
            "execution_count": 34,
            "source": [
                "print(d)\n",
                "d.clear()\n",
                "print(d)"
            ],
            "outputs": [
                {
                    "output_type": "stream",
                    "name": "stdout",
                    "text": [
                        "{'张三': '1999/02/03', '李四': '1994/05/15'}\n",
                        "{}\n"
                    ]
                }
            ],
            "metadata": {}
        },
        {
            "cell_type": "markdown",
            "source": [
                "改：\n",
                "\n",
                "dict[已存在的键]=新的值"
            ],
            "metadata": {}
        },
        {
            "cell_type": "code",
            "execution_count": 36,
            "source": [
                "scores={\"Mike\":88,\"Tom\":89,\"Mary\":95,\"Jack\":95}\n",
                "print(scores)\n",
                "scores['Tom']=100\n",
                "print(scores)\n",
                "scores['Jackie']=100\n",
                "print(scores)"
            ],
            "outputs": [
                {
                    "output_type": "stream",
                    "name": "stdout",
                    "text": [
                        "{'Mike': 88, 'Tom': 89, 'Mary': 95, 'Jack': 95}\n",
                        "{'Mike': 88, 'Tom': 100, 'Mary': 95, 'Jack': 95}\n",
                        "{'Mike': 88, 'Tom': 100, 'Mary': 95, 'Jack': 95, 'Jackie': 100}\n"
                    ]
                }
            ],
            "metadata": {}
        },
        {
            "cell_type": "markdown",
            "source": [
                "查：\n",
                "\n",
                "dict[键]"
            ],
            "metadata": {}
        },
        {
            "cell_type": "code",
            "execution_count": 38,
            "source": [
                "print(scores)\n",
                "print(scores['Mike'])\n",
                "print(scores['Jerry'])"
            ],
            "outputs": [
                {
                    "output_type": "stream",
                    "name": "stdout",
                    "text": [
                        "{'Mike': 88, 'Tom': 100, 'Mary': 95, 'Jack': 95, 'Jackie': 100}\n",
                        "88\n"
                    ]
                },
                {
                    "output_type": "error",
                    "ename": "KeyError",
                    "evalue": "'Jerry'",
                    "traceback": [
                        "\u001b[0;31m---------------------------------------------------------------------------\u001b[0m",
                        "\u001b[0;31mKeyError\u001b[0m                                  Traceback (most recent call last)",
                        "\u001b[0;32m/tmp/ipykernel_1010/2624835123.py\u001b[0m in \u001b[0;36m<module>\u001b[0;34m\u001b[0m\n\u001b[1;32m      1\u001b[0m \u001b[0mprint\u001b[0m\u001b[0;34m(\u001b[0m\u001b[0mscores\u001b[0m\u001b[0;34m)\u001b[0m\u001b[0;34m\u001b[0m\u001b[0;34m\u001b[0m\u001b[0m\n\u001b[1;32m      2\u001b[0m \u001b[0mprint\u001b[0m\u001b[0;34m(\u001b[0m\u001b[0mscores\u001b[0m\u001b[0;34m[\u001b[0m\u001b[0;34m'Mike'\u001b[0m\u001b[0;34m]\u001b[0m\u001b[0;34m)\u001b[0m\u001b[0;34m\u001b[0m\u001b[0;34m\u001b[0m\u001b[0m\n\u001b[0;32m----> 3\u001b[0;31m \u001b[0mprint\u001b[0m\u001b[0;34m(\u001b[0m\u001b[0mscores\u001b[0m\u001b[0;34m[\u001b[0m\u001b[0;34m'Jerry'\u001b[0m\u001b[0;34m]\u001b[0m\u001b[0;34m)\u001b[0m\u001b[0;34m\u001b[0m\u001b[0;34m\u001b[0m\u001b[0m\n\u001b[0m",
                        "\u001b[0;31mKeyError\u001b[0m: 'Jerry'"
                    ]
                }
            ],
            "metadata": {}
        },
        {
            "cell_type": "markdown",
            "source": [
                "dict.get(键)"
            ],
            "metadata": {}
        },
        {
            "cell_type": "code",
            "execution_count": 39,
            "source": [
                "print(scores)\n",
                "print(scores.get('Mike'))\n",
                "print(scores.get('Jerry'))"
            ],
            "outputs": [
                {
                    "output_type": "stream",
                    "name": "stdout",
                    "text": [
                        "{'Mike': 88, 'Tom': 100, 'Mary': 95, 'Jack': 95, 'Jackie': 100}\n",
                        "88\n",
                        "None\n"
                    ]
                }
            ],
            "metadata": {}
        },
        {
            "cell_type": "markdown",
            "source": [
                "遍历：\n",
                "\n",
                "dict.keys()返回包含所有键的列表\n",
                "\n",
                "这个列表不是严格意义上的list，可以用list()转换成严格意义上的列表"
            ],
            "metadata": {}
        },
        {
            "cell_type": "code",
            "execution_count": 40,
            "source": [
                "print(scores)\n",
                "li = scores.keys()\n",
                "print(li)\n",
                "print(type(li))\n",
                "li = list(li)\n",
                "print(li)\n",
                "print(type(li))"
            ],
            "outputs": [
                {
                    "output_type": "stream",
                    "name": "stdout",
                    "text": [
                        "{'Mike': 88, 'Tom': 100, 'Mary': 95, 'Jack': 95, 'Jackie': 100}\n",
                        "dict_keys(['Mike', 'Tom', 'Mary', 'Jack', 'Jackie'])\n",
                        "<class 'dict_keys'>\n",
                        "['Mike', 'Tom', 'Mary', 'Jack', 'Jackie']\n",
                        "<class 'list'>\n"
                    ]
                }
            ],
            "metadata": {}
        },
        {
            "cell_type": "markdown",
            "source": [
                "dict.values()返回包含所有值的列表\n",
                "\n",
                "这个列表不是严格意义上的list，可以用list()转换成严格意义上的列表"
            ],
            "metadata": {}
        },
        {
            "cell_type": "code",
            "execution_count": 41,
            "source": [
                "print(scores)\n",
                "li = scores.values()\n",
                "print(li)\n",
                "print(type(li))\n",
                "li = list(li)\n",
                "print(li)\n",
                "print(type(li))"
            ],
            "outputs": [
                {
                    "output_type": "stream",
                    "name": "stdout",
                    "text": [
                        "{'Mike': 88, 'Tom': 100, 'Mary': 95, 'Jack': 95, 'Jackie': 100}\n",
                        "dict_values([88, 100, 95, 95, 100])\n",
                        "<class 'dict_values'>\n",
                        "[88, 100, 95, 95, 100]\n",
                        "<class 'list'>\n"
                    ]
                }
            ],
            "metadata": {}
        },
        {
            "cell_type": "markdown",
            "source": [
                "dict.items()返回包含所有键值对的列表，每个键值对用元组储存\n",
                "\n",
                "这个列表不是严格意义上的list，可以用list()转换成严格意义上的列表"
            ],
            "metadata": {}
        },
        {
            "cell_type": "code",
            "execution_count": 42,
            "source": [
                "print(scores)\n",
                "li = scores.items()\n",
                "print(li)\n",
                "print(type(li))\n",
                "li = list(li)\n",
                "print(li)\n",
                "print(type(li))"
            ],
            "outputs": [
                {
                    "output_type": "stream",
                    "name": "stdout",
                    "text": [
                        "{'Mike': 88, 'Tom': 100, 'Mary': 95, 'Jack': 95, 'Jackie': 100}\n",
                        "dict_items([('Mike', 88), ('Tom', 100), ('Mary', 95), ('Jack', 95), ('Jackie', 100)])\n",
                        "<class 'dict_items'>\n",
                        "[('Mike', 88), ('Tom', 100), ('Mary', 95), ('Jack', 95), ('Jackie', 100)]\n",
                        "<class 'list'>\n"
                    ]
                }
            ],
            "metadata": {}
        },
        {
            "cell_type": "markdown",
            "source": [
                "### 集合\n",
                "集合的增、删方法：\n",
                "\n",
                "增：\n",
                "\n",
                "用set.add()函数"
            ],
            "metadata": {}
        },
        {
            "cell_type": "code",
            "execution_count": 11,
            "source": [
                "st = {\"Mike\",\"Tom\",\"Mary\",\"Jack\",\"Jackie\"}\n",
                "print(st)\n",
                "st.add(\"Jerry\")\n",
                "print(st)\n",
                "st.add(\"Jerry\")\n",
                "print(st)"
            ],
            "outputs": [
                {
                    "output_type": "stream",
                    "name": "stdout",
                    "text": [
                        "{'Tom', 'Mike', 'Jack', 'Mary', 'Jackie'}\n",
                        "{'Tom', 'Mike', 'Jack', 'Jerry', 'Mary', 'Jackie'}\n",
                        "{'Tom', 'Mike', 'Jack', 'Jerry', 'Mary', 'Jackie'}\n"
                    ]
                }
            ],
            "metadata": {}
        },
        {
            "cell_type": "markdown",
            "source": [
                "用set.update()函数"
            ],
            "metadata": {}
        },
        {
            "cell_type": "code",
            "execution_count": 45,
            "source": [
                "print(st)\n",
                "st.update(['Tom','David'])\n",
                "print(st)\n",
                "st.update({'Bob','Mary'})\n",
                "print(st)"
            ],
            "outputs": [
                {
                    "output_type": "stream",
                    "name": "stdout",
                    "text": [
                        "{'Tom', 'Mary', 'Jerry', 'Jack', 'Jackie', 'Mike'}\n",
                        "{'Tom', 'Mary', 'Jerry', 'Jack', 'Jackie', 'David', 'Mike'}\n",
                        "{'Tom', 'Mary', 'Jerry', 'Jack', 'Jackie', 'David', 'Mike', 'Bob'}\n"
                    ]
                }
            ],
            "metadata": {}
        },
        {
            "cell_type": "markdown",
            "source": [
                "删：\n",
                "\n",
                "用set.remove()函数"
            ],
            "metadata": {}
        },
        {
            "cell_type": "code",
            "execution_count": 46,
            "source": [
                "print(st)\n",
                "st.remove('Tom')\n",
                "print(st)\n",
                "st.remove('Tom')\n",
                "print(st)"
            ],
            "outputs": [
                {
                    "output_type": "stream",
                    "name": "stdout",
                    "text": [
                        "{'Tom', 'Mary', 'Jerry', 'Jack', 'Jackie', 'David', 'Mike', 'Bob'}\n",
                        "{'Mary', 'Jerry', 'Jack', 'Jackie', 'David', 'Mike', 'Bob'}\n"
                    ]
                },
                {
                    "output_type": "error",
                    "ename": "KeyError",
                    "evalue": "'Tom'",
                    "traceback": [
                        "\u001b[0;31m---------------------------------------------------------------------------\u001b[0m",
                        "\u001b[0;31mKeyError\u001b[0m                                  Traceback (most recent call last)",
                        "\u001b[0;32m/tmp/ipykernel_1010/2976123633.py\u001b[0m in \u001b[0;36m<module>\u001b[0;34m\u001b[0m\n\u001b[1;32m      2\u001b[0m \u001b[0mst\u001b[0m\u001b[0;34m.\u001b[0m\u001b[0mremove\u001b[0m\u001b[0;34m(\u001b[0m\u001b[0;34m'Tom'\u001b[0m\u001b[0;34m)\u001b[0m\u001b[0;34m\u001b[0m\u001b[0;34m\u001b[0m\u001b[0m\n\u001b[1;32m      3\u001b[0m \u001b[0mprint\u001b[0m\u001b[0;34m(\u001b[0m\u001b[0mst\u001b[0m\u001b[0;34m)\u001b[0m\u001b[0;34m\u001b[0m\u001b[0;34m\u001b[0m\u001b[0m\n\u001b[0;32m----> 4\u001b[0;31m \u001b[0mst\u001b[0m\u001b[0;34m.\u001b[0m\u001b[0mremove\u001b[0m\u001b[0;34m(\u001b[0m\u001b[0;34m'Tom'\u001b[0m\u001b[0;34m)\u001b[0m\u001b[0;34m\u001b[0m\u001b[0;34m\u001b[0m\u001b[0m\n\u001b[0m\u001b[1;32m      5\u001b[0m \u001b[0mprint\u001b[0m\u001b[0;34m(\u001b[0m\u001b[0mst\u001b[0m\u001b[0;34m)\u001b[0m\u001b[0;34m\u001b[0m\u001b[0;34m\u001b[0m\u001b[0m\n",
                        "\u001b[0;31mKeyError\u001b[0m: 'Tom'"
                    ]
                }
            ],
            "metadata": {}
        },
        {
            "cell_type": "markdown",
            "source": [
                "用set.clear()函数"
            ],
            "metadata": {}
        },
        {
            "cell_type": "code",
            "execution_count": 47,
            "source": [
                "print(st)\n",
                "st.clear()\n",
                "print(st)"
            ],
            "outputs": [
                {
                    "output_type": "stream",
                    "name": "stdout",
                    "text": [
                        "{'Mary', 'Jerry', 'Jack', 'Jackie', 'David', 'Mike', 'Bob'}\n",
                        "set()\n"
                    ]
                }
            ],
            "metadata": {}
        },
        {
            "cell_type": "markdown",
            "source": [
                "求交集set1 & set2   <==> set1.intersection(set2)\n",
                "\n",
                "求并集set1 | set2   <==> set1.union(set2)"
            ],
            "metadata": {}
        },
        {
            "cell_type": "markdown",
            "source": [
                "### 列表\n",
                "列表的增、删、查、排序方法：\n",
                "\n",
                "增：\n",
                "\n",
                "用list.append()函数"
            ],
            "metadata": {}
        },
        {
            "cell_type": "code",
            "execution_count": 12,
            "source": [
                "li = []\n",
                "print(li)\n",
                "li.append('Life')\n",
                "print(li)\n",
                "li.append('is')\n",
                "print(li)"
            ],
            "outputs": [
                {
                    "output_type": "stream",
                    "name": "stdout",
                    "text": [
                        "[]\n",
                        "['Life']\n",
                        "['Life', 'is']\n"
                    ]
                }
            ],
            "metadata": {}
        },
        {
            "cell_type": "markdown",
            "source": [
                "用list.extend()函数"
            ],
            "metadata": {}
        },
        {
            "cell_type": "code",
            "execution_count": 13,
            "source": [
                "print(li)\n",
                "li2 = ['short',',','I','python']\n",
                "li.extend(li2)\n",
                "print(li)"
            ],
            "outputs": [
                {
                    "output_type": "stream",
                    "name": "stdout",
                    "text": [
                        "['Life', 'is']\n",
                        "['Life', 'is', 'short', ',', 'I', 'python']\n"
                    ]
                }
            ],
            "metadata": {}
        },
        {
            "cell_type": "markdown",
            "source": [
                "用list.insert()函数\n",
                "\n",
                "insert(索引a，b)表示，把b插入到索引a的位置"
            ],
            "metadata": {}
        },
        {
            "cell_type": "code",
            "execution_count": 66,
            "source": [
                "print(li)\n",
                "li.insert(5,'use')\n",
                "print(li)\n",
                "li.insert(100,'!')\n",
                "print(li)"
            ],
            "outputs": [
                {
                    "output_type": "stream",
                    "name": "stdout",
                    "text": [
                        "['Life', 'is', 'short', ',', 'I', 'python']\n",
                        "['Life', 'is', 'short', ',', 'I', 'use', 'python']\n",
                        "['Life', 'is', 'short', ',', 'I', 'use', 'python', '!']\n"
                    ]
                }
            ],
            "metadata": {}
        },
        {
            "cell_type": "markdown",
            "source": [
                "删：\n",
                "\n",
                "list.clear()\n",
                "\n",
                "list.pop(索引)\n",
                "\n",
                "list.remove(值)"
            ],
            "metadata": {}
        },
        {
            "cell_type": "code",
            "execution_count": 67,
            "source": [
                "print(li)\n",
                "print(li.pop())\n",
                "print(li)\n",
                "li.pop(2)\n",
                "print(li)\n",
                "li.clear()\n",
                "li = [1,2,3,2,1]\n",
                "li.remove(1)\n",
                "print(li)"
            ],
            "outputs": [
                {
                    "output_type": "stream",
                    "name": "stdout",
                    "text": [
                        "['Life', 'is', 'short', ',', 'I', 'use', 'python', '!']\n",
                        "!\n",
                        "['Life', 'is', 'short', ',', 'I', 'use', 'python']\n",
                        "['Life', 'is', ',', 'I', 'use', 'python']\n",
                        "[2, 3, 2, 1]\n"
                    ]
                }
            ],
            "metadata": {}
        },
        {
            "cell_type": "markdown",
            "source": [
                "查：\n",
                "\n",
                "list.index(寻找的对象，开始索引，结束索引) 获得某个元素首次出现的索引\n",
                "\n",
                "list.count(寻找的对象) 获得某个元素元素出现次数"
            ],
            "metadata": {}
        },
        {
            "cell_type": "code",
            "execution_count": 71,
            "source": [
                "a=['我','爱','北','京','天','安','门','天','安','门','长','城']\n",
                "print(a.count(\"门\"))\n",
                "print(a.index(\"门\"))\n",
                "print(a.index(\"门\",-4,-1))\n",
                "print(a.index(\"门\",0,6))"
            ],
            "outputs": [
                {
                    "output_type": "stream",
                    "name": "stdout",
                    "text": [
                        "2\n",
                        "6\n",
                        "9\n"
                    ]
                },
                {
                    "output_type": "error",
                    "ename": "ValueError",
                    "evalue": "'门' is not in list",
                    "traceback": [
                        "\u001b[0;31m---------------------------------------------------------------------------\u001b[0m",
                        "\u001b[0;31mValueError\u001b[0m                                Traceback (most recent call last)",
                        "\u001b[0;32m/tmp/ipykernel_1010/1683478278.py\u001b[0m in \u001b[0;36m<module>\u001b[0;34m\u001b[0m\n\u001b[1;32m      3\u001b[0m \u001b[0mprint\u001b[0m\u001b[0;34m(\u001b[0m\u001b[0ma\u001b[0m\u001b[0;34m.\u001b[0m\u001b[0mindex\u001b[0m\u001b[0;34m(\u001b[0m\u001b[0;34m\"门\"\u001b[0m\u001b[0;34m)\u001b[0m\u001b[0;34m)\u001b[0m\u001b[0;34m\u001b[0m\u001b[0;34m\u001b[0m\u001b[0m\n\u001b[1;32m      4\u001b[0m \u001b[0mprint\u001b[0m\u001b[0;34m(\u001b[0m\u001b[0ma\u001b[0m\u001b[0;34m.\u001b[0m\u001b[0mindex\u001b[0m\u001b[0;34m(\u001b[0m\u001b[0;34m\"门\"\u001b[0m\u001b[0;34m,\u001b[0m\u001b[0;34m-\u001b[0m\u001b[0;36m4\u001b[0m\u001b[0;34m,\u001b[0m\u001b[0;34m-\u001b[0m\u001b[0;36m1\u001b[0m\u001b[0;34m)\u001b[0m\u001b[0;34m)\u001b[0m\u001b[0;34m\u001b[0m\u001b[0;34m\u001b[0m\u001b[0m\n\u001b[0;32m----> 5\u001b[0;31m \u001b[0mprint\u001b[0m\u001b[0;34m(\u001b[0m\u001b[0ma\u001b[0m\u001b[0;34m.\u001b[0m\u001b[0mindex\u001b[0m\u001b[0;34m(\u001b[0m\u001b[0;34m\"门\"\u001b[0m\u001b[0;34m,\u001b[0m\u001b[0;36m0\u001b[0m\u001b[0;34m,\u001b[0m\u001b[0;36m6\u001b[0m\u001b[0;34m)\u001b[0m\u001b[0;34m)\u001b[0m\u001b[0;34m\u001b[0m\u001b[0;34m\u001b[0m\u001b[0m\n\u001b[0m",
                        "\u001b[0;31mValueError\u001b[0m: '门' is not in list"
                    ]
                }
            ],
            "metadata": {}
        },
        {
            "cell_type": "markdown",
            "source": [
                "排序：\n",
                "\n",
                "list.sort()\n",
                "\n",
                "list.reverse()"
            ],
            "metadata": {}
        },
        {
            "cell_type": "code",
            "execution_count": 72,
            "source": [
                "list1 = [1, 9, 7, 6, 5, 8, 6, 8]\n",
                "print(list1)\n",
                "list1.sort()\n",
                "print(list1)\n",
                "list1.reverse()\n",
                "print(list1)"
            ],
            "outputs": [
                {
                    "output_type": "stream",
                    "name": "stdout",
                    "text": [
                        "[1, 9, 7, 6, 5, 8, 6, 8]\n",
                        "[1, 5, 6, 6, 7, 8, 8, 9]\n",
                        "[9, 8, 8, 7, 6, 6, 5, 1]\n"
                    ]
                }
            ],
            "metadata": {}
        },
        {
            "cell_type": "markdown",
            "source": [
                "### 其他常用函数\n",
                "- abs()\n",
                "- min()\n",
                "- max()\n",
                "- sum()\n",
                "- bin()\n",
                "- bool()\n",
                "- chr()\n",
                "- all()\n",
                "- any()\n",
                "- input()"
            ],
            "metadata": {}
        },
        {
            "cell_type": "markdown",
            "source": [
                "abs(x)返回|x|"
            ],
            "metadata": {}
        },
        {
            "cell_type": "code",
            "execution_count": 73,
            "source": [
                "print(abs(-3.3))\n",
                "print(abs(2+1J))"
            ],
            "outputs": [
                {
                    "output_type": "stream",
                    "name": "stdout",
                    "text": [
                        "3.3\n",
                        "2.23606797749979\n"
                    ]
                }
            ],
            "metadata": {}
        },
        {
            "cell_type": "markdown",
            "source": [
                "min(x)/max(x)/sum(x) 返回x中元素的最小值/最大值/和"
            ],
            "metadata": {}
        },
        {
            "cell_type": "code",
            "execution_count": 77,
            "source": [
                "li = [1,4,3,2]\n",
                "print(min(li))\n",
                "print(max(li))\n",
                "print(sum(li))"
            ],
            "outputs": [
                {
                    "output_type": "stream",
                    "name": "stdout",
                    "text": [
                        "1\n",
                        "4\n",
                        "10\n"
                    ]
                }
            ],
            "metadata": {}
        },
        {
            "cell_type": "markdown",
            "source": [
                "bin(x)把x转化成二进制数字"
            ],
            "metadata": {}
        },
        {
            "cell_type": "code",
            "execution_count": 78,
            "source": [
                "x=6\n",
                "print(bin(x))\n",
                "print(type(bin(x)))"
            ],
            "outputs": [
                {
                    "output_type": "stream",
                    "name": "stdout",
                    "text": [
                        "0b110\n",
                        "<class 'str'>\n"
                    ]
                }
            ],
            "metadata": {}
        },
        {
            "cell_type": "markdown",
            "source": [
                "bool(x): 如果x是False、None或者0就返回False"
            ],
            "metadata": {}
        },
        {
            "cell_type": "code",
            "execution_count": 79,
            "source": [
                "print(bool(0))"
            ],
            "outputs": [
                {
                    "output_type": "stream",
                    "name": "stdout",
                    "text": [
                        "False\n"
                    ]
                }
            ],
            "metadata": {}
        },
        {
            "cell_type": "markdown",
            "source": [
                "ord(x)返回x这个字符对应的ASCII码\n",
                "\n",
                "chr(x)返回x这个ASCII码对应的字符"
            ],
            "metadata": {}
        },
        {
            "cell_type": "code",
            "execution_count": 8,
            "source": [
                "a=ord('a')\n",
                "print(a)\n",
                "print(chr(a))"
            ],
            "outputs": [
                {
                    "output_type": "stream",
                    "name": "stdout",
                    "text": [
                        "97\n",
                        "a\n"
                    ]
                }
            ],
            "metadata": {}
        },
        {
            "cell_type": "markdown",
            "source": [
                "all(x): x中所有元素是True才会返回True\n",
                "\n",
                "any(x): x中有一个True就返回True"
            ],
            "metadata": {}
        },
        {
            "cell_type": "code",
            "execution_count": 10,
            "source": [
                "print(all([3>=2,True,2>=3]))\n",
                "print(any([1==1.0,0,233]))"
            ],
            "outputs": [
                {
                    "output_type": "stream",
                    "name": "stdout",
                    "text": [
                        "False\n",
                        "True\n"
                    ]
                }
            ],
            "metadata": {}
        }
    ],
    "metadata": {
        "orig_nbformat": 4,
        "language_info": {
            "name": "python",
            "version": "3.8.5",
            "mimetype": "text/x-python",
            "codemirror_mode": {
                "name": "ipython",
                "version": 3
            },
            "pygments_lexer": "ipython3",
            "nbconvert_exporter": "python",
            "file_extension": ".py"
        },
        "kernelspec": {
            "name": "python3",
            "display_name": "Python 3.8.5 64-bit"
        },
        "interpreter": {
            "hash": "e7370f93d1d0cde622a1f8e1c04877d8463912d04d973331ad4851f04de6915a"
        }
    },
    "nbformat": 4,
    "nbformat_minor": 2
}